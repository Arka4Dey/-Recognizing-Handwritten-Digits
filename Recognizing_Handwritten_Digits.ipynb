{
  "nbformat": 4,
  "nbformat_minor": 0,
  "metadata": {
    "colab": {
      "name": "Recognizing Handwritten Digits.ipynb",
      "provenance": [],
      "collapsed_sections": []
    },
    "kernelspec": {
      "name": "python3",
      "display_name": "Python 3"
    },
    "language_info": {
      "name": "python"
    }
  },
  "cells": [
    {
      "cell_type": "markdown",
      "metadata": {
        "id": "4B9WPRK3oUy-"
      },
      "source": [
        "# **Recognizing Handwritten Digits - TASK 2**\n",
        "\n",
        "### Suven Consultants and Technologies Pvt Ltd\n",
        "\n"
      ]
    },
    {
      "cell_type": "code",
      "metadata": {
        "id": "VSnqpcBhoQ11"
      },
      "source": [
        "import numpy as np \n",
        "import pandas as pd \n",
        "import matplotlib.pyplot as plt\n",
        "%matplotlib inline \n",
        "import seaborn as sns \n",
        "import warnings \n",
        "warnings.filterwarnings('ignore')"
      ],
      "execution_count": 8,
      "outputs": []
    },
    {
      "cell_type": "markdown",
      "metadata": {
        "id": "v5xqtAQyz5Hn"
      },
      "source": [
        "## **The Digits Dataset**\n",
        "\n",
        "The scikit-learn library provides numerous datasets that are useful for testing many problems of data analysis and prediction of the results. Also in this case there is a dataset of images called Digits"
      ]
    },
    {
      "cell_type": "code",
      "metadata": {
        "id": "azL_MCVNz_G3"
      },
      "source": [
        "from sklearn import datasets\n",
        "digits = datasets.load_digits()"
      ],
      "execution_count": 9,
      "outputs": []
    },
    {
      "cell_type": "code",
      "metadata": {
        "colab": {
          "base_uri": "https://localhost:8080/"
        },
        "id": "isc9Cy550Z3r",
        "outputId": "1b79a792-8b4e-47c0-a1fe-8c66ff6debc1"
      },
      "source": [
        "print(digits.DESCR)"
      ],
      "execution_count": 10,
      "outputs": [
        {
          "output_type": "stream",
          "text": [
            ".. _digits_dataset:\n",
            "\n",
            "Optical recognition of handwritten digits dataset\n",
            "--------------------------------------------------\n",
            "\n",
            "**Data Set Characteristics:**\n",
            "\n",
            "    :Number of Instances: 5620\n",
            "    :Number of Attributes: 64\n",
            "    :Attribute Information: 8x8 image of integer pixels in the range 0..16.\n",
            "    :Missing Attribute Values: None\n",
            "    :Creator: E. Alpaydin (alpaydin '@' boun.edu.tr)\n",
            "    :Date: July; 1998\n",
            "\n",
            "This is a copy of the test set of the UCI ML hand-written digits datasets\n",
            "https://archive.ics.uci.edu/ml/datasets/Optical+Recognition+of+Handwritten+Digits\n",
            "\n",
            "The data set contains images of hand-written digits: 10 classes where\n",
            "each class refers to a digit.\n",
            "\n",
            "Preprocessing programs made available by NIST were used to extract\n",
            "normalized bitmaps of handwritten digits from a preprinted form. From a\n",
            "total of 43 people, 30 contributed to the training set and different 13\n",
            "to the test set. 32x32 bitmaps are divided into nonoverlapping blocks of\n",
            "4x4 and the number of on pixels are counted in each block. This generates\n",
            "an input matrix of 8x8 where each element is an integer in the range\n",
            "0..16. This reduces dimensionality and gives invariance to small\n",
            "distortions.\n",
            "\n",
            "For info on NIST preprocessing routines, see M. D. Garris, J. L. Blue, G.\n",
            "T. Candela, D. L. Dimmick, J. Geist, P. J. Grother, S. A. Janet, and C.\n",
            "L. Wilson, NIST Form-Based Handprint Recognition System, NISTIR 5469,\n",
            "1994.\n",
            "\n",
            ".. topic:: References\n",
            "\n",
            "  - C. Kaynak (1995) Methods of Combining Multiple Classifiers and Their\n",
            "    Applications to Handwritten Digit Recognition, MSc Thesis, Institute of\n",
            "    Graduate Studies in Science and Engineering, Bogazici University.\n",
            "  - E. Alpaydin, C. Kaynak (1998) Cascading Classifiers, Kybernetika.\n",
            "  - Ken Tang and Ponnuthurai N. Suganthan and Xi Yao and A. Kai Qin.\n",
            "    Linear dimensionalityreduction using relevance weighted LDA. School of\n",
            "    Electrical and Electronic Engineering Nanyang Technological University.\n",
            "    2005.\n",
            "  - Claudio Gentile. A New Approximate Maximal Margin Classification\n",
            "    Algorithm. NIPS. 2000.\n"
          ],
          "name": "stdout"
        }
      ]
    },
    {
      "cell_type": "code",
      "metadata": {
        "colab": {
          "base_uri": "https://localhost:8080/"
        },
        "id": "w_DvhZ450yok",
        "outputId": "b957173b-4f5b-40e9-f7d0-df292ce3813a"
      },
      "source": [
        "digits.target.size"
      ],
      "execution_count": 13,
      "outputs": [
        {
          "output_type": "execute_result",
          "data": {
            "text/plain": [
              "1797"
            ]
          },
          "metadata": {
            "tags": []
          },
          "execution_count": 13
        }
      ]
    },
    {
      "cell_type": "markdown",
      "metadata": {
        "id": "eRhE9HAK07XZ"
      },
      "source": [
        "This dataset consists of 1,797 images that are 8x8 pixels in size. Each image is a\n",
        "handwritten digit in grayscale"
      ]
    },
    {
      "cell_type": "markdown",
      "metadata": {
        "id": "sjeGKqE312q7"
      },
      "source": [
        "Each\n",
        "element of this array is an image that is represented by an 8x8 matrix of numerical values that correspond to a grayscale from white, with a value of 0,to black, with the value 16."
      ]
    },
    {
      "cell_type": "code",
      "metadata": {
        "colab": {
          "base_uri": "https://localhost:8080/"
        },
        "id": "UNLh7OFI1751",
        "outputId": "b23011ab-f501-48bf-c562-ad0c0ae46c7d"
      },
      "source": [
        "digits.images[30]"
      ],
      "execution_count": 14,
      "outputs": [
        {
          "output_type": "execute_result",
          "data": {
            "text/plain": [
              "array([[ 0.,  0., 10., 14., 11.,  3.,  0.,  0.],\n",
              "       [ 0.,  4., 16., 13.,  6., 14.,  1.,  0.],\n",
              "       [ 0.,  4., 16.,  2.,  0., 11.,  7.,  0.],\n",
              "       [ 0.,  8., 16.,  0.,  0., 10.,  5.,  0.],\n",
              "       [ 0.,  8., 16.,  0.,  0., 14.,  4.,  0.],\n",
              "       [ 0.,  8., 16.,  0.,  1., 16.,  1.,  0.],\n",
              "       [ 0.,  4., 16.,  1., 11., 15.,  0.,  0.],\n",
              "       [ 0.,  0., 11., 16., 12.,  3.,  0.,  0.]])"
            ]
          },
          "metadata": {
            "tags": []
          },
          "execution_count": 14
        }
      ]
    },
    {
      "cell_type": "markdown",
      "metadata": {
        "id": "-2s-ixjf2ZaD"
      },
      "source": [
        "## We can visually check the contents using Matplotlib\n",
        "\n",
        "### Following is the image for the above 8x8 Matrix"
      ]
    },
    {
      "cell_type": "code",
      "metadata": {
        "colab": {
          "base_uri": "https://localhost:8080/",
          "height": 282
        },
        "id": "JNgFFbNw2ud4",
        "outputId": "2d1c9903-d0e7-4504-85fa-59467467f89a"
      },
      "source": [
        "plt.imshow(digits.images[30], cmap=plt.cm.gray_r, interpolation='nearest')"
      ],
      "execution_count": 17,
      "outputs": [
        {
          "output_type": "execute_result",
          "data": {
            "text/plain": [
              "<matplotlib.image.AxesImage at 0x7fafa2b1d090>"
            ]
          },
          "metadata": {
            "tags": []
          },
          "execution_count": 17
        },
        {
          "output_type": "display_data",
          "data": {
            "image/png": "[encoded data removed]",
            "text/plain": [
              "<Figure size 432x288 with 1 Axes>"
            ]
          },
          "metadata": {
            "tags": [],
            "needs_background": "light"
          }
        }
      ]
    },
    {
      "cell_type": "markdown",
      "metadata": {
        "id": "67pqqv3W3bnl"
      },
      "source": [
        "### **Declaring the SUPPORT VECTOR CLASSIFIER (SVC)**"
      ]
    },
    {
      "cell_type": "code",
      "metadata": {
        "id": "buzSFTZc3uNK"
      },
      "source": [
        "from sklearn import svm\n",
        "svc = svm.SVC(gamma=0.001, C=100.)"
      ],
      "execution_count": 18,
      "outputs": []
    },
    {
      "cell_type": "markdown",
      "metadata": {
        "id": "wyyq-Tng4YY7"
      },
      "source": [
        "## **LEARNING AND PREDICTING**\n",
        "\n",
        "## Case - 1"
      ]
    },
    {
      "cell_type": "markdown",
      "metadata": {
        "id": "Yo0nWbh241f8"
      },
      "source": [
        "This dataset contains 1,797 elements, and so you can consider the first 1,791 as a training set and will use the last six as a validation set.\n",
        "\n",
        "You can see in detail these six handwritten digits by using the matplotlib library:"
      ]
    },
    {
      "cell_type": "code",
      "metadata": {
        "colab": {
          "base_uri": "https://localhost:8080/",
          "height": 282
        },
        "id": "3H4DeA1948VZ",
        "outputId": "f8242fc6-cf61-4f3b-c327-5c5bd6515102"
      },
      "source": [
        "plt.subplot(321)\n",
        "plt.imshow(digits.images[1791], cmap=plt.cm.gray_r,\n",
        "interpolation='nearest')\n",
        "plt.subplot(322)\n",
        "plt.imshow(digits.images[1792], cmap=plt.cm.gray_r,\n",
        "interpolation='nearest')\n",
        "plt.subplot(323)\n",
        "plt.imshow(digits.images[1793], cmap=plt.cm.gray_r,\n",
        "interpolation='nearest')\n",
        "plt.subplot(324)\n",
        "plt.imshow(digits.images[1794], cmap=plt.cm.gray_r,\n",
        "interpolation='nearest')\n",
        "plt.subplot(325)\n",
        "plt.imshow(digits.images[1795], cmap=plt.cm.gray_r,\n",
        "interpolation='nearest')\n",
        "plt.subplot(326)\n",
        "plt.imshow(digits.images[1796], cmap=plt.cm.gray_r,\n",
        "interpolation='nearest')\n"
      ],
      "execution_count": 46,
      "outputs": [
        {
          "output_type": "execute_result",
          "data": {
            "text/plain": [
              "<matplotlib.image.AxesImage at 0x7faf9fe6d5d0>"
            ]
          },
          "metadata": {
            "tags": []
          },
          "execution_count": 46
        },
        {
          "output_type": "display_data",
          "data": {
            "image/png": "[encoded data removed]",
            "text/plain": [
              "<Figure size 432x288 with 6 Axes>"
            ]
          },
          "metadata": {
            "tags": [],
            "needs_background": "light"
          }
        }
      ]
    },
    {
      "cell_type": "code",
      "metadata": {
        "colab": {
          "base_uri": "https://localhost:8080/"
        },
        "id": "n0MBYh4h6Xqn",
        "outputId": "24ce1dcf-16a1-4688-f6a8-306da1dfd9f3"
      },
      "source": [
        "svc.fit(digits.data[1:1790], digits.target[1:1790])"
      ],
      "execution_count": 47,
      "outputs": [
        {
          "output_type": "execute_result",
          "data": {
            "text/plain": [
              "SVC(C=100.0, break_ties=False, cache_size=200, class_weight=None, coef0=0.0,\n",
              "    decision_function_shape='ovr', degree=3, gamma=0.001, kernel='rbf',\n",
              "    max_iter=-1, probability=False, random_state=None, shrinking=True,\n",
              "    tol=0.001, verbose=False)"
            ]
          },
          "metadata": {
            "tags": []
          },
          "execution_count": 47
        }
      ]
    },
    {
      "cell_type": "code",
      "metadata": {
        "colab": {
          "base_uri": "https://localhost:8080/"
        },
        "id": "YCZKZeAg6mZ9",
        "outputId": "e5c6b632-9e85-4a53-c390-db1ea3da32c8"
      },
      "source": [
        "pred=svc.predict(digits.data[1791:1796])\n",
        "pred"
      ],
      "execution_count": 48,
      "outputs": [
        {
          "output_type": "execute_result",
          "data": {
            "text/plain": [
              "array([4, 9, 0, 8, 9])"
            ]
          },
          "metadata": {
            "tags": []
          },
          "execution_count": 48
        }
      ]
    },
    {
      "cell_type": "code",
      "metadata": {
        "colab": {
          "base_uri": "https://localhost:8080/"
        },
        "id": "xRo2k9ST6mqo",
        "outputId": "413e3f37-5848-45b3-cef7-e0057c2ddfd1"
      },
      "source": [
        "tar=digits.target[1791:1796]\n",
        "tar"
      ],
      "execution_count": 49,
      "outputs": [
        {
          "output_type": "execute_result",
          "data": {
            "text/plain": [
              "array([4, 9, 0, 8, 9])"
            ]
          },
          "metadata": {
            "tags": []
          },
          "execution_count": 49
        }
      ]
    },
    {
      "cell_type": "code",
      "metadata": {
        "colab": {
          "base_uri": "https://localhost:8080/"
        },
        "id": "TigAUeit7bQO",
        "outputId": "c7d2c1e3-d372-4926-9ed7-a21d3b2b9cf6"
      },
      "source": [
        "from sklearn import metrics\n",
        "accuracy = metrics.accuracy_score(tar,pred)\n",
        "print(\"Accuracy of Case 1 is \" + str(accuracy*100) + \" %\")\n"
      ],
      "execution_count": 66,
      "outputs": [
        {
          "output_type": "stream",
          "text": [
            "Accuracy of Case 1 is 100.0 %\n"
          ],
          "name": "stdout"
        }
      ]
    },
    {
      "cell_type": "markdown",
      "metadata": {
        "id": "CBYoPnTRBruI"
      },
      "source": [
        "## **Conclusion of Case-1**\n",
        "\n",
        "*We can see that the svc estimator has learned correctly. It is able to recognize the handwritten digits, interpreting correctly all six digits of the validation set.*\n",
        "\n",
        "In this case we have got 100% accurate predictions, but this may not be the case at all times. "
      ]
    },
    {
      "cell_type": "markdown",
      "metadata": {
        "id": "QshcXqi7CkJo"
      },
      "source": [
        "## Case - 2\n",
        "\n",
        "This dataset contains 1,797 elements, and so you can consider the first 1500 as a training set and will use the 1501-1600 as a validation set.\n",
        "\n",
        "You can see in detail some of the handwritten digits by using the matplotlib library:"
      ]
    },
    {
      "cell_type": "code",
      "metadata": {
        "colab": {
          "base_uri": "https://localhost:8080/",
          "height": 206
        },
        "id": "ibBVPE9VDj2g",
        "outputId": "1181ab81-590b-4d24-f6f5-2ff73540d5c4"
      },
      "source": [
        "plt.subplot(321)\n",
        "plt.imshow(digits.images[1501], cmap=plt.cm.gray_r,\n",
        "interpolation='nearest')\n",
        "plt.subplot(322)\n",
        "plt.imshow(digits.images[1502], cmap=plt.cm.gray_r,\n",
        "interpolation='nearest')\n",
        "plt.subplot(323)\n",
        "plt.imshow(digits.images[1598], cmap=plt.cm.gray_r,\n",
        "interpolation='nearest')\n",
        "plt.subplot(324)\n",
        "plt.imshow(digits.images[1599], cmap=plt.cm.gray_r,\n",
        "interpolation='nearest')"
      ],
      "execution_count": 69,
      "outputs": [
        {
          "output_type": "execute_result",
          "data": {
            "text/plain": [
              "<matplotlib.image.AxesImage at 0x7fafa055e5d0>"
            ]
          },
          "metadata": {
            "tags": []
          },
          "execution_count": 69
        },
        {
          "output_type": "display_data",
          "data": {
            "image/png": "[encoded data removed]",
            "text/plain": [
              "<Figure size 432x288 with 4 Axes>"
            ]
          },
          "metadata": {
            "tags": [],
            "needs_background": "light"
          }
        }
      ]
    },
    {
      "cell_type": "code",
      "metadata": {
        "colab": {
          "base_uri": "https://localhost:8080/"
        },
        "id": "KluDKmjaEetH",
        "outputId": "a4f9b8c9-137f-4a89-80ca-fb5f53fc1125"
      },
      "source": [
        "\n",
        "svc.fit(digits.data[1:1500],digits.target[1:1500])"
      ],
      "execution_count": 77,
      "outputs": [
        {
          "output_type": "execute_result",
          "data": {
            "text/plain": [
              "SVC(C=100.0, break_ties=False, cache_size=200, class_weight=None, coef0=0.0,\n",
              "    decision_function_shape='ovr', degree=3, gamma=0.001, kernel='rbf',\n",
              "    max_iter=-1, probability=False, random_state=None, shrinking=True,\n",
              "    tol=0.001, verbose=False)"
            ]
          },
          "metadata": {
            "tags": []
          },
          "execution_count": 77
        }
      ]
    },
    {
      "cell_type": "code",
      "metadata": {
        "colab": {
          "base_uri": "https://localhost:8080/"
        },
        "id": "HqxmqMUoIwFa",
        "outputId": "7a6d72f3-e11c-4230-cae8-e52a6be1a2a5"
      },
      "source": [
        "predi=svc.predict(digits.data[1501:1600])\n",
        "predi"
      ],
      "execution_count": 78,
      "outputs": [
        {
          "output_type": "execute_result",
          "data": {
            "text/plain": [
              "array([7, 4, 6, 3, 1, 3, 9, 1, 7, 6, 8, 4, 3, 1, 4, 0, 5, 3, 6, 9, 6, 1,\n",
              "       7, 5, 4, 4, 7, 2, 8, 2, 2, 5, 7, 9, 5, 4, 8, 8, 4, 9, 0, 8, 9, 8,\n",
              "       0, 1, 2, 3, 4, 5, 6, 7, 1, 9, 0, 1, 2, 3, 4, 5, 6, 9, 0, 1, 2, 3,\n",
              "       4, 5, 6, 7, 1, 9, 4, 9, 5, 5, 6, 5, 0, 9, 8, 9, 8, 4, 1, 7, 7, 3,\n",
              "       5, 1, 0, 0, 2, 2, 7, 8, 2, 0, 1])"
            ]
          },
          "metadata": {
            "tags": []
          },
          "execution_count": 78
        }
      ]
    },
    {
      "cell_type": "code",
      "metadata": {
        "colab": {
          "base_uri": "https://localhost:8080/"
        },
        "id": "0h_a4HX6JKov",
        "outputId": "0879cfe0-b47c-4db2-88e5-a36fcb69cd31"
      },
      "source": [
        "targ=digits.target[1501:1600]\n",
        "targ"
      ],
      "execution_count": 79,
      "outputs": [
        {
          "output_type": "execute_result",
          "data": {
            "text/plain": [
              "array([7, 4, 6, 3, 1, 3, 9, 1, 7, 6, 8, 4, 3, 1, 4, 0, 5, 3, 6, 9, 6, 1,\n",
              "       7, 5, 4, 4, 7, 2, 8, 2, 2, 5, 7, 9, 5, 4, 8, 8, 4, 9, 0, 8, 9, 8,\n",
              "       0, 1, 2, 3, 4, 5, 6, 7, 8, 9, 0, 1, 2, 3, 4, 5, 6, 9, 0, 1, 2, 3,\n",
              "       4, 5, 6, 7, 8, 9, 0, 9, 5, 5, 6, 5, 0, 9, 8, 9, 8, 4, 1, 7, 7, 3,\n",
              "       5, 1, 0, 0, 2, 2, 7, 8, 2, 0, 1])"
            ]
          },
          "metadata": {
            "tags": []
          },
          "execution_count": 79
        }
      ]
    },
    {
      "cell_type": "code",
      "metadata": {
        "colab": {
          "base_uri": "https://localhost:8080/"
        },
        "id": "E0SWDMBVJbWR",
        "outputId": "381dc06f-ae7a-41c3-e8fc-22177c1c2029"
      },
      "source": [
        "accurac = metrics.accuracy_score(targ,predi)\n",
        "print(\"Accuracy of Case 2 is \" + str(accurac*100) + \" %\")\n"
      ],
      "execution_count": 81,
      "outputs": [
        {
          "output_type": "stream",
          "text": [
            "Accuracy of Case 2 is 96.96969696969697 %\n"
          ],
          "name": "stdout"
        }
      ]
    },
    {
      "cell_type": "markdown",
      "metadata": {
        "id": "29hgn7NzKNXo"
      },
      "source": [
        "## **Conclusion of Case-2**\n",
        "\n",
        "*We can see that the svc estimator has learned correctly. It is able to recognize the handwritten digits, interpreting  almost correctly all the digits of the validation set.*\n",
        "\n",
        "In this case we have got 96.67% accurate predictions"
      ]
    },
    {
      "cell_type": "markdown",
      "metadata": {
        "id": "S2YStsRwMBLM"
      },
      "source": [
        "## Case - 3\n",
        "\n",
        "This dataset contains 1,797 elements, and so you can consider the last 797 elements as a training set and will use the 750-1000 as a validation set.\n",
        "\n",
        "You can see in detail some of the handwritten digits by using the matplotlib library:"
      ]
    },
    {
      "cell_type": "code",
      "metadata": {
        "colab": {
          "base_uri": "https://localhost:8080/",
          "height": 206
        },
        "id": "ChwL4YQgKOMQ",
        "outputId": "a7715bdb-be65-4740-8e37-ae3abceaab8b"
      },
      "source": [
        "plt.subplot(321)\n",
        "plt.imshow(digits.images[751], cmap=plt.cm.gray_r,\n",
        "interpolation='nearest')\n",
        "plt.subplot(322)\n",
        "plt.imshow(digits.images[752], cmap=plt.cm.gray_r,\n",
        "interpolation='nearest')\n",
        "plt.subplot(323)\n",
        "plt.imshow(digits.images[999], cmap=plt.cm.gray_r,\n",
        "interpolation='nearest')\n",
        "plt.subplot(324)\n",
        "plt.imshow(digits.images[1000], cmap=plt.cm.gray_r,\n",
        "interpolation='nearest')"
      ],
      "execution_count": 82,
      "outputs": [
        {
          "output_type": "execute_result",
          "data": {
            "text/plain": [
              "<matplotlib.image.AxesImage at 0x7faf9fbb7c50>"
            ]
          },
          "metadata": {
            "tags": []
          },
          "execution_count": 82
        },
        {
          "output_type": "display_data",
          "data": {
            "image/png": "[encoded data removed]",
            "text/plain": [
              "<Figure size 432x288 with 4 Axes>"
            ]
          },
          "metadata": {
            "tags": [],
            "needs_background": "light"
          }
        }
      ]
    },
    {
      "cell_type": "code",
      "metadata": {
        "colab": {
          "base_uri": "https://localhost:8080/"
        },
        "id": "drO2yEzcKvTr",
        "outputId": "d42ecbd6-2431-421d-cb3b-0a413867adc2"
      },
      "source": [
        "svc.fit(digits.data[1001:],digits.target[1001:])"
      ],
      "execution_count": 83,
      "outputs": [
        {
          "output_type": "execute_result",
          "data": {
            "text/plain": [
              "SVC(C=100.0, break_ties=False, cache_size=200, class_weight=None, coef0=0.0,\n",
              "    decision_function_shape='ovr', degree=3, gamma=0.001, kernel='rbf',\n",
              "    max_iter=-1, probability=False, random_state=None, shrinking=True,\n",
              "    tol=0.001, verbose=False)"
            ]
          },
          "metadata": {
            "tags": []
          },
          "execution_count": 83
        }
      ]
    },
    {
      "cell_type": "code",
      "metadata": {
        "colab": {
          "base_uri": "https://localhost:8080/"
        },
        "id": "znzGsPMtK-zg",
        "outputId": "fc8d6f88-306e-4787-c6dd-d2af822fec46"
      },
      "source": [
        "predic=svc.predict(digits.data[750:1000])\n",
        "predic"
      ],
      "execution_count": 84,
      "outputs": [
        {
          "output_type": "execute_result",
          "data": {
            "text/plain": [
              "array([6, 9, 6, 1, 7, 5, 4, 4, 7, 2, 8, 2, 2, 5, 7, 9, 5, 4, 8, 8, 4, 9,\n",
              "       0, 8, 9, 8, 0, 1, 2, 3, 4, 5, 6, 7, 8, 9, 0, 1, 2, 3, 4, 5, 5, 7,\n",
              "       1, 9, 0, 1, 2, 3, 4, 5, 6, 7, 8, 9, 0, 9, 5, 5, 6, 5, 0, 9, 8, 9,\n",
              "       8, 4, 1, 7, 7, 3, 5, 1, 0, 0, 2, 2, 7, 8, 2, 0, 1, 2, 6, 3, 3, 7,\n",
              "       3, 3, 4, 6, 6, 6, 4, 9, 1, 5, 0, 9, 5, 2, 8, 2, 0, 0, 1, 7, 6, 3,\n",
              "       2, 1, 7, 4, 6, 3, 1, 3, 9, 1, 7, 6, 8, 4, 3, 1, 4, 0, 5, 3, 6, 9,\n",
              "       6, 1, 7, 5, 4, 4, 7, 2, 8, 7, 2, 5, 7, 9, 5, 4, 8, 8, 4, 9, 0, 8,\n",
              "       9, 1, 1, 2, 3, 4, 5, 6, 7, 8, 9, 0, 1, 2, 3, 4, 5, 6, 7, 8, 9, 0,\n",
              "       1, 2, 3, 4, 5, 6, 7, 8, 9, 0, 9, 5, 5, 6, 5, 0, 9, 8, 9, 8, 4, 1,\n",
              "       7, 7, 3, 5, 1, 2, 7, 8, 2, 0, 1, 2, 6, 3, 3, 7, 3, 3, 4, 6, 6, 6,\n",
              "       4, 9, 1, 5, 0, 9, 5, 2, 8, 2, 0, 0, 1, 7, 6, 3, 2, 1, 4, 6, 3, 1,\n",
              "       3, 9, 1, 7, 6, 8, 4, 3])"
            ]
          },
          "metadata": {
            "tags": []
          },
          "execution_count": 84
        }
      ]
    },
    {
      "cell_type": "code",
      "metadata": {
        "colab": {
          "base_uri": "https://localhost:8080/"
        },
        "id": "hp67H6GzLJcU",
        "outputId": "346a8a0b-0c3f-48d7-8fba-f109f2a3794e"
      },
      "source": [
        "targt=digits.target[750:1000]\n",
        "targt"
      ],
      "execution_count": 85,
      "outputs": [
        {
          "output_type": "execute_result",
          "data": {
            "text/plain": [
              "array([6, 9, 6, 1, 7, 5, 4, 4, 7, 2, 8, 2, 2, 5, 7, 9, 5, 4, 8, 8, 4, 9,\n",
              "       0, 8, 9, 8, 0, 1, 2, 3, 4, 5, 6, 7, 8, 9, 0, 1, 2, 3, 4, 5, 6, 7,\n",
              "       8, 9, 0, 1, 2, 3, 4, 5, 6, 7, 8, 9, 0, 9, 5, 5, 6, 5, 0, 9, 8, 9,\n",
              "       8, 4, 1, 7, 7, 3, 5, 1, 0, 0, 2, 2, 7, 8, 2, 0, 1, 2, 6, 3, 3, 7,\n",
              "       3, 3, 4, 6, 6, 6, 4, 9, 1, 5, 0, 9, 5, 2, 8, 2, 0, 0, 1, 7, 6, 3,\n",
              "       2, 1, 7, 4, 6, 3, 1, 3, 9, 1, 7, 6, 8, 4, 3, 1, 4, 0, 5, 3, 6, 9,\n",
              "       6, 1, 7, 5, 4, 4, 7, 2, 8, 2, 2, 5, 7, 9, 5, 4, 8, 8, 4, 9, 0, 8,\n",
              "       9, 8, 1, 2, 3, 4, 5, 6, 7, 8, 9, 0, 1, 2, 3, 4, 5, 6, 7, 8, 9, 0,\n",
              "       1, 2, 3, 4, 5, 6, 7, 8, 9, 0, 9, 5, 5, 6, 5, 0, 9, 8, 9, 8, 4, 1,\n",
              "       7, 7, 3, 5, 1, 2, 7, 8, 2, 0, 1, 2, 6, 3, 3, 7, 3, 3, 4, 6, 6, 6,\n",
              "       4, 9, 1, 5, 0, 9, 5, 2, 8, 2, 0, 0, 1, 7, 6, 3, 2, 1, 4, 6, 3, 1,\n",
              "       3, 9, 1, 7, 6, 8, 4, 3])"
            ]
          },
          "metadata": {
            "tags": []
          },
          "execution_count": 85
        }
      ]
    },
    {
      "cell_type": "code",
      "metadata": {
        "colab": {
          "base_uri": "https://localhost:8080/"
        },
        "id": "yfJ-N0VKLVXT",
        "outputId": "4cdb92a9-4d31-479c-aa9d-ad5f8040970f"
      },
      "source": [
        "accur = metrics.accuracy_score(targt,predic)\n",
        "print(\"Accuracy of Case 3 is \" + str(accur*100) + \" %\")"
      ],
      "execution_count": 86,
      "outputs": [
        {
          "output_type": "stream",
          "text": [
            "Accuracy of Case 3 is 98.4 %\n"
          ],
          "name": "stdout"
        }
      ]
    },
    {
      "cell_type": "markdown",
      "metadata": {
        "id": "kZHv6oK-Li-4"
      },
      "source": [
        "## **Conclusion of Case-3**\n",
        "\n",
        "*We can see that the svc estimator has learned correctly. It is able to recognize the handwritten digits, interpreting almost correctly all the digits of the validation set.*\n",
        "\n",
        "In this case we have got 98.4% accurate predictions"
      ]
    }
  ]
}